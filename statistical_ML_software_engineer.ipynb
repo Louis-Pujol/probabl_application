{
 "cells": [
  {
   "cell_type": "markdown",
   "metadata": {},
   "source": [
    "In this notebook we answer the following questions:\n",
    "\n",
    "- the existence of a significant statistical association between the iris type and the input features (petal and sepal width and length)?\n",
    "- the ability of each kind of estimator to assess or not such a statistical association between features and target variable?\n",
    "\n",
    "Using the `sklearn.datasets.load_iris` dataset and for the classifiers `sklearn.dummy.DummyClassifier` and `sklearn.ensemble.HistGradientBoostingClassifier`."
   ]
  },
  {
   "cell_type": "code",
   "execution_count": 1,
   "metadata": {},
   "outputs": [],
   "source": [
    "# imports for the notebook\n",
    "from sklearn.datasets import load_iris\n",
    "from sklearn.base import BaseEstimator\n",
    "from sklearn.dummy import DummyClassifier\n",
    "from sklearn.ensemble import HistGradientBoostingClassifier\n",
    "from sklearn.model_selection import permutation_test_score\n",
    "import numpy as np"
   ]
  },
  {
   "cell_type": "markdown",
   "metadata": {},
   "source": [
    "<h1>Load the data and print some informations</h1>"
   ]
  },
  {
   "cell_type": "code",
   "execution_count": 2,
   "metadata": {},
   "outputs": [
    {
     "name": "stdout",
     "output_type": "stream",
     "text": [
      "n_samples: 150, n_features: 4, n_classes: 3\n",
      "\n",
      "Feature names: ['sepal length (cm)', 'sepal width (cm)', 'petal length (cm)', 'petal width (cm)']\n",
      "Standard deviation of each feature: [0.82530129 0.43441097 1.75940407 0.75969263]\n",
      "\n",
      "Classes names: ['setosa' 'versicolor' 'virginica']\n",
      "Class distribution: [50 50 50]\n"
     ]
    }
   ],
   "source": [
    "# Load and inspect the data\n",
    "X, y = load_iris(return_X_y=True)\n",
    "\n",
    "# Number of samples, number of features and number of classes\n",
    "n, d = X.shape\n",
    "n_classes = len(np.unique(y))\n",
    "print(f\"n_samples: {n}, n_features: {d}, n_classes: {n_classes}\", end=\"\\n\\n\")\n",
    "\n",
    "# Name of the features and standard deviation of each feature\n",
    "print(f\"Feature names: {load_iris()['feature_names']}\")\n",
    "print(f\"Standard deviation of each feature: {X.std(axis=0)}\", end=\"\\n\\n\")\n",
    "\n",
    "# Name of the target and class distribution\n",
    "n_classes = len(np.unique(y))\n",
    "print(f\"Classes names: {load_iris()['target_names']}\")\n",
    "print(f\"Class distribution: {np.bincount(y)}\")"
   ]
  },
  {
   "cell_type": "markdown",
   "metadata": {},
   "source": [
    "<h1>Remarks about the data</h1>\n",
    "\n",
    "- The data represents measures on different flowers, nothing seems to indicate a temporal or spatial correlation between samples, it seems safe to assume iid samples\n",
    "- The features are homogeneous (length in cm) and in the same order of magnitude: it seems that scaling the data before processing it is not a necessity here\n",
    "- The classes are balanced: this information is of interest as we plan to use a histogram-based classification tree classifier, if classes were unbalanced we should consider setting a `class_weight` argument different that `None`."
   ]
  },
  {
   "cell_type": "markdown",
   "metadata": {},
   "source": [
    "<h1> Computation of p-values for a cross-validated score with permutation significiance test </h1>\n",
    "\n",
    "For two classifiers:\n",
    "\n",
    "- `sklearn.dummy.DummyClassifier`\n",
    "- `sklearn.ensemble.HistGradientBoostingClassifier`"
   ]
  },
  {
   "cell_type": "code",
   "execution_count": 3,
   "metadata": {},
   "outputs": [
    {
     "name": "stdout",
     "output_type": "stream",
     "text": [
      "p-value for DummyClassifier: 1.00\n",
      "p-value for HistGradientBoostingClassifier: 0.01\n"
     ]
    }
   ],
   "source": [
    "# Define a function to compute the p-value of a classifier using permutation test\n",
    "def p_value(clf: BaseEstimator) -> float:\n",
    "    \"\"\"Compute the p-value of the classifier using permutation test.\"\"\"\n",
    "    score, permutation_scores, p_value = permutation_test_score(\n",
    "        clf, X, y, scoring=\"accuracy\", n_permutations=100, n_jobs=-1\n",
    "    )\n",
    "    return p_value\n",
    "\n",
    "\n",
    "# Compute the p-value of the classifiers\n",
    "clf_dummy = DummyClassifier()\n",
    "print(f\"p-value for DummyClassifier: {p_value(clf_dummy):.2f}\")\n",
    "\n",
    "clf_boosting = HistGradientBoostingClassifier()\n",
    "print(f\"p-value for HistGradientBoostingClassifier: {p_value(clf_boosting):.2f}\")"
   ]
  },
  {
   "cell_type": "markdown",
   "metadata": {},
   "source": [
    "\n",
    "<h1>Conclusion</h1>\n",
    "\n",
    "\n",
    "<h3> Test </h3>\n",
    "\n",
    "- null hypothesis: the classifier acts the same on random data and on actual data: the labels are obtained by chance (random classifier)\n",
    "\n",
    "- alternative: the classifier acts significantly better on actual data than random: a pattern between inputs and labels is shown\n",
    "\n",
    "<h3>Interpretation of the p-value</h3>\n",
    "\n",
    "- A large p-value (close to 1) indicates that null hypothesis cannot be discarded and the classifier do not indicate a statistical evidence between input features and labels.\n",
    "\n",
    "- A small p-value (for this test, the minimal value is `1 / n_permutations`, here `0.01`) indicates that there is evidence against null hypothesis and consequently, a statistical evidence between labels and input features.\n",
    "\n",
    "\n",
    "<h3>Conclusion for our study</h3>\n",
    "\n",
    "| Classifier                        | p-value  | Conclusion                                                                   |\n",
    "|-----------------------------------|----------|------------------------------------------------------------------------------|\n",
    "| `DummyClassifier`                 | 1.0      | labels obtained by chance, no statistical evidence exposed                   |\n",
    "| `HistGradientBoostingClassifier`  | 0.01     | pattern learned, clear statistical evidence between input featurs and labels |\n"
   ]
  }
 ],
 "metadata": {
  "kernelspec": {
   "display_name": "python3.10",
   "language": "python",
   "name": "python3"
  },
  "language_info": {
   "codemirror_mode": {
    "name": "ipython",
    "version": 3
   },
   "file_extension": ".py",
   "mimetype": "text/x-python",
   "name": "python",
   "nbconvert_exporter": "python",
   "pygments_lexer": "ipython3",
   "version": "3.10.13"
  }
 },
 "nbformat": 4,
 "nbformat_minor": 2
}
